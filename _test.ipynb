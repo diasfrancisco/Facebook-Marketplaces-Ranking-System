{
 "cells": [
  {
   "cell_type": "code",
   "execution_count": 1,
   "metadata": {},
   "outputs": [
    {
     "name": "stdout",
     "output_type": "stream",
     "text": [
      "   Unnamed: 0                                    id  \\\n",
      "0           0  243809c0-9cfc-4486-ad12-3b7a16605ba9   \n",
      "1           1  1c58d3f9-8b93-47ea-9415-204fcc2a22e6   \n",
      "2           2  860673f1-57f6-47ba-8d2f-13f9e05b8f9a   \n",
      "3           3  59948726-29be-4b35-ade5-bb2fd7331856   \n",
      "4           4  16dbc860-696e-4cda-93f6-4dd4926573fb   \n",
      "\n",
      "                                        product_name  \\\n",
      "0  Mirror wall art | in Wokingham, Berkshire | Gu...   \n",
      "1  Stainless Steel Food Steamer | in Inverness, H...   \n",
      "2  Sun loungers | in Skegness, Lincolnshire | Gum...   \n",
      "3  Coffee side table from Ammunition ammo box hai...   \n",
      "4  Modern Shannon Sofa for sale at low cost | in ...   \n",
      "\n",
      "                                            category  \\\n",
      "0  Home & Garden / Dining, Living Room Furniture ...   \n",
      "1              Home & Garden / Other Household Goods   \n",
      "2  Home & Garden / Garden & Patio / Outdoor Setti...   \n",
      "3  Home & Garden / Dining, Living Room Furniture ...   \n",
      "4  Home & Garden / Dining, Living Room Furniture ...   \n",
      "\n",
      "                                 product_description    price  \\\n",
      "0  Mirror wall art. Posted by Nisha in Dining, Li...    £5.00   \n",
      "1  Morphy Richard’s (model no 48755)Stainless ste...   £20.00   \n",
      "2  I have 2 of these - collection only as I don’t...   £20.00   \n",
      "3  Great reclaimed army ammunition box used as co...  £115.00   \n",
      "4  New Design Shannon Corner sofa  5 Seater Avail...  £450.00   \n",
      "\n",
      "                 location  \n",
      "0    Wokingham, Berkshire  \n",
      "1     Inverness, Highland  \n",
      "2  Skegness, Lincolnshire  \n",
      "3      Radstock, Somerset  \n",
      "4       Delph, Manchester  \n"
     ]
    }
   ],
   "source": [
    "import pandas as pd\n",
    "\n",
    "df = pd.read_csv(\"./data/Products.csv\", lineterminator=\"\\n\")\n",
    "print(df.head())"
   ]
  }
 ],
 "metadata": {
  "kernelspec": {
   "display_name": "Python 3.10.6 ('facebook_ranking')",
   "language": "python",
   "name": "python3"
  },
  "language_info": {
   "codemirror_mode": {
    "name": "ipython",
    "version": 3
   },
   "file_extension": ".py",
   "mimetype": "text/x-python",
   "name": "python",
   "nbconvert_exporter": "python",
   "pygments_lexer": "ipython3",
   "version": "3.10.6"
  },
  "orig_nbformat": 4,
  "vscode": {
   "interpreter": {
    "hash": "621fce6a6914d138a0da8387ae116ac93f82ce9c78d45ff9a91a891cbc40dd10"
   }
  }
 },
 "nbformat": 4,
 "nbformat_minor": 2
}
