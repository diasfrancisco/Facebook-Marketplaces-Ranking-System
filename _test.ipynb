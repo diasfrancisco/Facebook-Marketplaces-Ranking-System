{
 "cells": [
  {
   "cell_type": "code",
   "execution_count": 2,
   "metadata": {},
   "outputs": [
    {
     "name": "stdout",
     "output_type": "stream",
     "text": [
      "64\n"
     ]
    }
   ],
   "source": [
    "import os\n",
    "import pandas as pd\n",
    "\n",
    "path = \"./data/cleaned_images/\"\n",
    "im_files = os.listdir(path)\n",
    "\n",
    "df = pd.read_csv(\"./data/Images.csv\")\n",
    "ids = df[\"id\"]\n",
    "ids = ids.tolist()\n",
    "\n",
    "not_here = []\n",
    "\n",
    "for i in im_files:\n",
    "    im_id = i[:-4]\n",
    "    if im_id in ids:\n",
    "        pass\n",
    "    else:\n",
    "        not_here.append(im_id)\n",
    "\n",
    "print(len(not_here))"
   ]
  },
  {
   "cell_type": "code",
   "execution_count": 9,
   "metadata": {},
   "outputs": [
    {
     "data": {
      "text/html": [
       "<div>\n",
       "<style scoped>\n",
       "    .dataframe tbody tr th:only-of-type {\n",
       "        vertical-align: middle;\n",
       "    }\n",
       "\n",
       "    .dataframe tbody tr th {\n",
       "        vertical-align: top;\n",
       "    }\n",
       "\n",
       "    .dataframe thead th {\n",
       "        text-align: right;\n",
       "    }\n",
       "</style>\n",
       "<table border=\"1\" class=\"dataframe\">\n",
       "  <thead>\n",
       "    <tr style=\"text-align: right;\">\n",
       "      <th></th>\n",
       "      <th>id</th>\n",
       "      <th>product_id</th>\n",
       "      <th>category</th>\n",
       "    </tr>\n",
       "  </thead>\n",
       "  <tbody>\n",
       "    <tr>\n",
       "      <th>0</th>\n",
       "      <td>912bb259-3ad9-457b-9db1-ce1da9016057</td>\n",
       "      <td>5f5f57d7-778f-4336-bb10-b43863418c8c</td>\n",
       "      <td>0</td>\n",
       "    </tr>\n",
       "    <tr>\n",
       "      <th>1</th>\n",
       "      <td>b166d305-b852-4bdd-83f4-465b20da94fa</td>\n",
       "      <td>5f5f57d7-778f-4336-bb10-b43863418c8c</td>\n",
       "      <td>0</td>\n",
       "    </tr>\n",
       "    <tr>\n",
       "      <th>2</th>\n",
       "      <td>68f5a29d-0075-4d60-81c1-ab684a82e50c</td>\n",
       "      <td>c2c8949f-3cde-4651-a234-4a4a1b2a9ad4</td>\n",
       "      <td>0</td>\n",
       "    </tr>\n",
       "    <tr>\n",
       "      <th>3</th>\n",
       "      <td>f6a309d7-d247-446a-9b5e-aceefdd4334d</td>\n",
       "      <td>c2c8949f-3cde-4651-a234-4a4a1b2a9ad4</td>\n",
       "      <td>0</td>\n",
       "    </tr>\n",
       "    <tr>\n",
       "      <th>4</th>\n",
       "      <td>2c2b3a6f-15b3-4289-937a-15482d9f5781</td>\n",
       "      <td>8292aa4e-7f1b-4655-bf0e-f1f2c9e3ffaf</td>\n",
       "      <td>0</td>\n",
       "    </tr>\n",
       "    <tr>\n",
       "      <th>...</th>\n",
       "      <td>...</td>\n",
       "      <td>...</td>\n",
       "      <td>...</td>\n",
       "    </tr>\n",
       "    <tr>\n",
       "      <th>12599</th>\n",
       "      <td>cdec1c5c-c4b1-42db-afbe-3fa68ea4b87d</td>\n",
       "      <td>2b0a652b-46a2-4297-b619-5efeeb222787</td>\n",
       "      <td>12</td>\n",
       "    </tr>\n",
       "    <tr>\n",
       "      <th>12600</th>\n",
       "      <td>dc99e40f-6b15-494d-9fb7-f0d02e9781f9</td>\n",
       "      <td>719fd40a-870e-4144-b324-55dff2e66fb4</td>\n",
       "      <td>12</td>\n",
       "    </tr>\n",
       "    <tr>\n",
       "      <th>12601</th>\n",
       "      <td>c8488028-bf07-4258-a4c2-56d2fe387835</td>\n",
       "      <td>719fd40a-870e-4144-b324-55dff2e66fb4</td>\n",
       "      <td>12</td>\n",
       "    </tr>\n",
       "    <tr>\n",
       "      <th>12602</th>\n",
       "      <td>c6113145-89c8-47cd-9211-38f29d016cc7</td>\n",
       "      <td>86d1806b-5575-4a7e-9160-f24f12be6c95</td>\n",
       "      <td>12</td>\n",
       "    </tr>\n",
       "    <tr>\n",
       "      <th>12603</th>\n",
       "      <td>ed2aaf88-616c-4e6b-af49-bbdf7c0fbd06</td>\n",
       "      <td>86d1806b-5575-4a7e-9160-f24f12be6c95</td>\n",
       "      <td>12</td>\n",
       "    </tr>\n",
       "  </tbody>\n",
       "</table>\n",
       "<p>12604 rows × 3 columns</p>\n",
       "</div>"
      ],
      "text/plain": [
       "                                         id  \\\n",
       "0      912bb259-3ad9-457b-9db1-ce1da9016057   \n",
       "1      b166d305-b852-4bdd-83f4-465b20da94fa   \n",
       "2      68f5a29d-0075-4d60-81c1-ab684a82e50c   \n",
       "3      f6a309d7-d247-446a-9b5e-aceefdd4334d   \n",
       "4      2c2b3a6f-15b3-4289-937a-15482d9f5781   \n",
       "...                                     ...   \n",
       "12599  cdec1c5c-c4b1-42db-afbe-3fa68ea4b87d   \n",
       "12600  dc99e40f-6b15-494d-9fb7-f0d02e9781f9   \n",
       "12601  c8488028-bf07-4258-a4c2-56d2fe387835   \n",
       "12602  c6113145-89c8-47cd-9211-38f29d016cc7   \n",
       "12603  ed2aaf88-616c-4e6b-af49-bbdf7c0fbd06   \n",
       "\n",
       "                                 product_id  category  \n",
       "0      5f5f57d7-778f-4336-bb10-b43863418c8c         0  \n",
       "1      5f5f57d7-778f-4336-bb10-b43863418c8c         0  \n",
       "2      c2c8949f-3cde-4651-a234-4a4a1b2a9ad4         0  \n",
       "3      c2c8949f-3cde-4651-a234-4a4a1b2a9ad4         0  \n",
       "4      8292aa4e-7f1b-4655-bf0e-f1f2c9e3ffaf         0  \n",
       "...                                     ...       ...  \n",
       "12599  2b0a652b-46a2-4297-b619-5efeeb222787        12  \n",
       "12600  719fd40a-870e-4144-b324-55dff2e66fb4        12  \n",
       "12601  719fd40a-870e-4144-b324-55dff2e66fb4        12  \n",
       "12602  86d1806b-5575-4a7e-9160-f24f12be6c95        12  \n",
       "12603  86d1806b-5575-4a7e-9160-f24f12be6c95        12  \n",
       "\n",
       "[12604 rows x 3 columns]"
      ]
     },
     "execution_count": 9,
     "metadata": {},
     "output_type": "execute_result"
    }
   ],
   "source": [
    "df1 = pd.read_csv('./data/Images.csv', delimiter=',')[['id', 'product_id']]\n",
    "df2 = pd.read_csv('./data/Products.csv', lineterminator=\"\\n\")[['id', 'category']]\n",
    "df3 = pd.read_csv('./data/Labels.csv').rename(columns={'Unnamed: 0' : 'idx'}).to_dict()\n",
    "encoder_dict = dict((v,k) for k,v in df3['Category'].items())\n",
    "\n",
    "df4 = pd.merge(df1, df2, left_on='product_id', right_on='id').drop(['id_y'], axis=1).rename(columns={'id_x': 'id'})\n",
    "for category in df4['category']:\n",
    "    main_category = category.split(\"/\")[0].rstrip()\n",
    "    df4 = df4.replace(category, main_category)\n",
    "\n",
    "df4 = df4.replace({'category': encoder_dict})\n",
    "    \n",
    "df4"
   ]
  },
  {
   "cell_type": "code",
   "execution_count": 30,
   "metadata": {},
   "outputs": [
    {
     "name": "stdout",
     "output_type": "stream",
     "text": [
      "('./data/cleaned_images/ed2a4b51-82ea-4cd3-b5b7-f6ddab557280.jpg', 12)\n"
     ]
    }
   ],
   "source": [
    "import pandas as pd\n",
    "from torch.utils.data import Dataset\n",
    "\n",
    "class Rando(Dataset):\n",
    "    def __init__(self):\n",
    "        super().__init__()\n",
    "        self.img_dir = './data/cleaned_images/'\n",
    "        self.img_labels = pd.read_csv('./data/LabelledImages.csv')\n",
    "        \n",
    "    def __getitem__(self, idx):\n",
    "        img_path = os.path.join(self.img_dir, self.img_labels.iloc[idx, 1] + '.jpg')\n",
    "        label = self.img_labels.iloc[idx, -1]\n",
    "        return img_path, label\n",
    "        \n",
    "inst1 = Rando()\n",
    "sample = inst1.__getitem__(idx=12465)\n",
    "print(sample)"
   ]
  },
  {
   "cell_type": "code",
   "execution_count": 10,
   "metadata": {},
   "outputs": [
    {
     "name": "stdout",
     "output_type": "stream",
     "text": [
      "0\n"
     ]
    }
   ],
   "source": [
    "import torch\n",
    "\n",
    "device = torch.device(\"cuda:0\" if torch.cuda.is_available() else \"cpu\")\n",
    "\n",
    "mma = torch.cuda.max_memory_allocated(device=device)\n",
    "print(mma)"
   ]
  },
  {
   "cell_type": "code",
   "execution_count": 19,
   "metadata": {},
   "outputs": [
    {
     "name": "stdout",
     "output_type": "stream",
     "text": [
      "24_Dec_2022_01_45_16_907606\n",
      "24_Dec_2022_01_45_16_907637\n",
      "<class 'str'>\n"
     ]
    }
   ],
   "source": [
    "from datetime import datetime\n",
    "\n",
    "timestamp = datetime.now().strftime('%d_%b_%Y_%H_%M_%S_%f')\n",
    "timestamp2 = datetime.now().strftime('%d_%b_%Y_%H_%M_%S_%f')\n",
    "\n",
    "print(timestamp)\n",
    "print(timestamp2)\n",
    "print(type(timestamp))\n",
    "\n",
    "# os.makedirs(f'./model_evaluation/{timestamp}/weights', exist_ok=True)"
   ]
  },
  {
   "cell_type": "code",
   "execution_count": 24,
   "metadata": {},
   "outputs": [],
   "source": [
    "# train_loss = 34.435345\n",
    "# accuracy = 99.23423\n",
    "# with open(f'loss_and_acc.txt', 'w') as f:\n",
    "#     f.writelines(['Train Loss: %.3f'%train_loss, '\\nAccuracy: %.3f'%accuracy])"
   ]
  }
 ],
 "metadata": {
  "kernelspec": {
   "display_name": "facebook_ranking",
   "language": "python",
   "name": "python3"
  },
  "language_info": {
   "codemirror_mode": {
    "name": "ipython",
    "version": 3
   },
   "file_extension": ".py",
   "mimetype": "text/x-python",
   "name": "python",
   "nbconvert_exporter": "python",
   "pygments_lexer": "ipython3",
   "version": "3.10.8"
  },
  "orig_nbformat": 4,
  "vscode": {
   "interpreter": {
    "hash": "2278aa0a79cc982940520771e9a06ba9a7c10589ea8274630980780d2fa11267"
   }
  }
 },
 "nbformat": 4,
 "nbformat_minor": 2
}
