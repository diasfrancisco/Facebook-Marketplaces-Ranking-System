{
 "cells": [
  {
   "cell_type": "code",
   "execution_count": 18,
   "metadata": {},
   "outputs": [
    {
     "name": "stdout",
     "output_type": "stream",
     "text": [
      "Total number of images:  12668\n"
     ]
    }
   ],
   "source": [
    "import os\n",
    "\n",
    "count = 0\n",
    "dir_path = \"./data/images/\"\n",
    "\n",
    "for path in os.listdir(dir_path):\n",
    "    if os.path.isfile(os.path.join(dir_path, path)):\n",
    "        count += 1\n",
    "    else:\n",
    "        pass\n",
    "\n",
    "print(\"Total number of images: \", count)"
   ]
  },
  {
   "cell_type": "code",
   "execution_count": 27,
   "metadata": {},
   "outputs": [
    {
     "name": "stdout",
     "output_type": "stream",
     "text": [
      "                   Category                                               Link\n",
      "0               home-garden  https://www.gumtree.com/p/other-bedroom-furnit...\n",
      "1               home-garden  https://www.gumtree.com/p/outdoor-settings-fur...\n",
      "2               home-garden  https://www.gumtree.com/p/outdoor-settings-fur...\n",
      "3               home-garden  https://www.gumtree.com/p/lighting-fittings/so...\n",
      "4               home-garden  https://www.gumtree.com/p/other-kitchen-storag...\n",
      "...                     ...                                                ...\n",
      "10441  video-games-consoles  https://www.gumtree.com/p/ps4/playstation-vr-v...\n",
      "10442  video-games-consoles  https://www.gumtree.com/p/ps5/ps5-sony-playsta...\n",
      "10443  video-games-consoles  https://www.gumtree.com/p/other-video-games/oc...\n",
      "10444  video-games-consoles  https://www.gumtree.com/p/other-video-game-acc...\n",
      "10445  video-games-consoles  https://www.gumtree.com/p/video-games/20-games...\n",
      "\n",
      "[10446 rows x 2 columns]\n",
      "['home-garden' 'Category' 'baby-kids-stuff' 'clothing'\n",
      " 'miscellaneous-goods' 'sports-leisure-travel' 'diy-tools-materials'\n",
      " 'kitchen-appliances' 'cds-dvds-games-books' 'computers-software' 'phones'\n",
      " 'health-beauty' 'office-furniture-equipment' 'video-games-consoles']\n",
      "14\n"
     ]
    }
   ],
   "source": [
    "import pandas as pd\n",
    "\n",
    "df = pd.read_csv(\"./data/Links.csv\")\n",
    "print(df)\n",
    "cats = df[\"Category\"].unique()\n",
    "print(cats)\n",
    "print(len(cats))"
   ]
  }
 ],
 "metadata": {
  "kernelspec": {
   "display_name": "facebook_ranking",
   "language": "python",
   "name": "python3"
  },
  "language_info": {
   "codemirror_mode": {
    "name": "ipython",
    "version": 3
   },
   "file_extension": ".py",
   "mimetype": "text/x-python",
   "name": "python",
   "nbconvert_exporter": "python",
   "pygments_lexer": "ipython3",
   "version": "3.10.8 (main, Nov 24 2022, 14:13:03) [GCC 11.2.0]"
  },
  "orig_nbformat": 4,
  "vscode": {
   "interpreter": {
    "hash": "2278aa0a79cc982940520771e9a06ba9a7c10589ea8274630980780d2fa11267"
   }
  }
 },
 "nbformat": 4,
 "nbformat_minor": 2
}
