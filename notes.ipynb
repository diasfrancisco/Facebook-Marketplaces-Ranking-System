{
 "cells": [
  {
   "attachments": {},
   "cell_type": "markdown",
   "metadata": {},
   "source": [
    "# Data issues\n",
    "\n",
    "### Only 12604 images have been labelled out of the 12668 raw images\n",
    "### There are 64 images that are not listed in Images.csv\n",
    "### There are 7051 unique items in the Images.csv file but 7155 unique items in the Products.csv file"
   ]
  },
  {
   "cell_type": "code",
   "execution_count": null,
   "metadata": {},
   "outputs": [],
   "source": []
  }
 ],
 "metadata": {
  "kernelspec": {
   "display_name": "facebook_ranking",
   "language": "python",
   "name": "python3"
  },
  "language_info": {
   "name": "python",
   "version": "3.10.8"
  },
  "orig_nbformat": 4,
  "vscode": {
   "interpreter": {
    "hash": "2278aa0a79cc982940520771e9a06ba9a7c10589ea8274630980780d2fa11267"
   }
  }
 },
 "nbformat": 4,
 "nbformat_minor": 2
}
