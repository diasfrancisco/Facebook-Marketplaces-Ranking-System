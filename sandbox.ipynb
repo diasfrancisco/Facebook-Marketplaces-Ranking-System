{
 "cells": [
  {
   "cell_type": "code",
   "execution_count": 2,
   "metadata": {},
   "outputs": [
    {
     "name": "stdout",
     "output_type": "stream",
     "text": [
      "64\n"
     ]
    }
   ],
   "source": [
    "import os\n",
    "import pandas as pd\n",
    "\n",
    "path = \"./data/cleaned_images/\"\n",
    "im_files = os.listdir(path)\n",
    "\n",
    "df = pd.read_csv(\"./data/Images.csv\")\n",
    "ids = df[\"id\"]\n",
    "ids = ids.tolist()\n",
    "\n",
    "not_here = []\n",
    "\n",
    "for i in im_files:\n",
    "    im_id = i[:-4]\n",
    "    if im_id in ids:\n",
    "        pass\n",
    "    else:\n",
    "        not_here.append(im_id)\n",
    "\n",
    "print(len(not_here))"
   ]
  },
  {
   "cell_type": "code",
   "execution_count": 9,
   "metadata": {},
   "outputs": [
    {
     "data": {
      "text/html": [
       "<div>\n",
       "<style scoped>\n",
       "    .dataframe tbody tr th:only-of-type {\n",
       "        vertical-align: middle;\n",
       "    }\n",
       "\n",
       "    .dataframe tbody tr th {\n",
       "        vertical-align: top;\n",
       "    }\n",
       "\n",
       "    .dataframe thead th {\n",
       "        text-align: right;\n",
       "    }\n",
       "</style>\n",
       "<table border=\"1\" class=\"dataframe\">\n",
       "  <thead>\n",
       "    <tr style=\"text-align: right;\">\n",
       "      <th></th>\n",
       "      <th>id</th>\n",
       "      <th>product_id</th>\n",
       "      <th>category</th>\n",
       "    </tr>\n",
       "  </thead>\n",
       "  <tbody>\n",
       "    <tr>\n",
       "      <th>0</th>\n",
       "      <td>912bb259-3ad9-457b-9db1-ce1da9016057</td>\n",
       "      <td>5f5f57d7-778f-4336-bb10-b43863418c8c</td>\n",
       "      <td>0</td>\n",
       "    </tr>\n",
       "    <tr>\n",
       "      <th>1</th>\n",
       "      <td>b166d305-b852-4bdd-83f4-465b20da94fa</td>\n",
       "      <td>5f5f57d7-778f-4336-bb10-b43863418c8c</td>\n",
       "      <td>0</td>\n",
       "    </tr>\n",
       "    <tr>\n",
       "      <th>2</th>\n",
       "      <td>68f5a29d-0075-4d60-81c1-ab684a82e50c</td>\n",
       "      <td>c2c8949f-3cde-4651-a234-4a4a1b2a9ad4</td>\n",
       "      <td>0</td>\n",
       "    </tr>\n",
       "    <tr>\n",
       "      <th>3</th>\n",
       "      <td>f6a309d7-d247-446a-9b5e-aceefdd4334d</td>\n",
       "      <td>c2c8949f-3cde-4651-a234-4a4a1b2a9ad4</td>\n",
       "      <td>0</td>\n",
       "    </tr>\n",
       "    <tr>\n",
       "      <th>4</th>\n",
       "      <td>2c2b3a6f-15b3-4289-937a-15482d9f5781</td>\n",
       "      <td>8292aa4e-7f1b-4655-bf0e-f1f2c9e3ffaf</td>\n",
       "      <td>0</td>\n",
       "    </tr>\n",
       "    <tr>\n",
       "      <th>...</th>\n",
       "      <td>...</td>\n",
       "      <td>...</td>\n",
       "      <td>...</td>\n",
       "    </tr>\n",
       "    <tr>\n",
       "      <th>12599</th>\n",
       "      <td>cdec1c5c-c4b1-42db-afbe-3fa68ea4b87d</td>\n",
       "      <td>2b0a652b-46a2-4297-b619-5efeeb222787</td>\n",
       "      <td>12</td>\n",
       "    </tr>\n",
       "    <tr>\n",
       "      <th>12600</th>\n",
       "      <td>dc99e40f-6b15-494d-9fb7-f0d02e9781f9</td>\n",
       "      <td>719fd40a-870e-4144-b324-55dff2e66fb4</td>\n",
       "      <td>12</td>\n",
       "    </tr>\n",
       "    <tr>\n",
       "      <th>12601</th>\n",
       "      <td>c8488028-bf07-4258-a4c2-56d2fe387835</td>\n",
       "      <td>719fd40a-870e-4144-b324-55dff2e66fb4</td>\n",
       "      <td>12</td>\n",
       "    </tr>\n",
       "    <tr>\n",
       "      <th>12602</th>\n",
       "      <td>c6113145-89c8-47cd-9211-38f29d016cc7</td>\n",
       "      <td>86d1806b-5575-4a7e-9160-f24f12be6c95</td>\n",
       "      <td>12</td>\n",
       "    </tr>\n",
       "    <tr>\n",
       "      <th>12603</th>\n",
       "      <td>ed2aaf88-616c-4e6b-af49-bbdf7c0fbd06</td>\n",
       "      <td>86d1806b-5575-4a7e-9160-f24f12be6c95</td>\n",
       "      <td>12</td>\n",
       "    </tr>\n",
       "  </tbody>\n",
       "</table>\n",
       "<p>12604 rows × 3 columns</p>\n",
       "</div>"
      ],
      "text/plain": [
       "                                         id  \\\n",
       "0      912bb259-3ad9-457b-9db1-ce1da9016057   \n",
       "1      b166d305-b852-4bdd-83f4-465b20da94fa   \n",
       "2      68f5a29d-0075-4d60-81c1-ab684a82e50c   \n",
       "3      f6a309d7-d247-446a-9b5e-aceefdd4334d   \n",
       "4      2c2b3a6f-15b3-4289-937a-15482d9f5781   \n",
       "...                                     ...   \n",
       "12599  cdec1c5c-c4b1-42db-afbe-3fa68ea4b87d   \n",
       "12600  dc99e40f-6b15-494d-9fb7-f0d02e9781f9   \n",
       "12601  c8488028-bf07-4258-a4c2-56d2fe387835   \n",
       "12602  c6113145-89c8-47cd-9211-38f29d016cc7   \n",
       "12603  ed2aaf88-616c-4e6b-af49-bbdf7c0fbd06   \n",
       "\n",
       "                                 product_id  category  \n",
       "0      5f5f57d7-778f-4336-bb10-b43863418c8c         0  \n",
       "1      5f5f57d7-778f-4336-bb10-b43863418c8c         0  \n",
       "2      c2c8949f-3cde-4651-a234-4a4a1b2a9ad4         0  \n",
       "3      c2c8949f-3cde-4651-a234-4a4a1b2a9ad4         0  \n",
       "4      8292aa4e-7f1b-4655-bf0e-f1f2c9e3ffaf         0  \n",
       "...                                     ...       ...  \n",
       "12599  2b0a652b-46a2-4297-b619-5efeeb222787        12  \n",
       "12600  719fd40a-870e-4144-b324-55dff2e66fb4        12  \n",
       "12601  719fd40a-870e-4144-b324-55dff2e66fb4        12  \n",
       "12602  86d1806b-5575-4a7e-9160-f24f12be6c95        12  \n",
       "12603  86d1806b-5575-4a7e-9160-f24f12be6c95        12  \n",
       "\n",
       "[12604 rows x 3 columns]"
      ]
     },
     "execution_count": 9,
     "metadata": {},
     "output_type": "execute_result"
    }
   ],
   "source": [
    "df1 = pd.read_csv('./data/Images.csv', delimiter=',')[['id', 'product_id']]\n",
    "df2 = pd.read_csv('./data/Products.csv', lineterminator=\"\\n\")[['id', 'category']]\n",
    "df3 = pd.read_csv('./data/Labels.csv').rename(columns={'Unnamed: 0' : 'idx'}).to_dict()\n",
    "encoder_dict = dict((v,k) for k,v in df3['Category'].items())\n",
    "\n",
    "df4 = pd.merge(df1, df2, left_on='product_id', right_on='id').drop(['id_y'], axis=1).rename(columns={'id_x': 'id'})\n",
    "for category in df4['category']:\n",
    "    main_category = category.split(\"/\")[0].rstrip()\n",
    "    df4 = df4.replace(category, main_category)\n",
    "\n",
    "df4 = df4.replace({'category': encoder_dict})\n",
    "    \n",
    "df4"
   ]
  },
  {
   "cell_type": "code",
   "execution_count": 7,
   "metadata": {},
   "outputs": [
    {
     "name": "stdout",
     "output_type": "stream",
     "text": [
      "torch.Size([1, 3, 512, 512])\n",
      "torch.Size([1])\n"
     ]
    }
   ],
   "source": [
    "import os\n",
    "import pandas as pd\n",
    "from torchvision import transforms\n",
    "from PIL import Image\n",
    "from torch.utils.data import Dataset, DataLoader\n",
    "\n",
    "class Rando(Dataset):\n",
    "    def __init__(self):\n",
    "        super().__init__()\n",
    "        self.img_dir = './data/cleaned_images/'\n",
    "        self.img_labels = pd.read_csv('./data/LabelledImages.csv')\n",
    "        self.transform = transforms.PILToTensor()\n",
    "        \n",
    "    def __getitem__(self, idx):\n",
    "        img_path = os.path.join(self.img_dir, self.img_labels.iloc[idx, 1] + '.jpg')\n",
    "        image = Image.open(img_path)\n",
    "        image = self.transform(image)\n",
    "        label = self.img_labels.iloc[idx, -1]\n",
    "        return image, label\n",
    "    \n",
    "    def __len__(self):\n",
    "        return len(self.img_labels)\n",
    "        \n",
    "data = Rando()\n",
    "loader = DataLoader(data, 1, True)\n",
    "for batch in loader:\n",
    "    x, y = batch\n",
    "    print(x.shape), print(y.shape)\n",
    "    break"
   ]
  },
  {
   "cell_type": "code",
   "execution_count": 10,
   "metadata": {},
   "outputs": [
    {
     "name": "stdout",
     "output_type": "stream",
     "text": [
      "0\n"
     ]
    }
   ],
   "source": [
    "import torch\n",
    "\n",
    "device = torch.device(\"cuda:0\" if torch.cuda.is_available() else \"cpu\")\n",
    "\n",
    "mma = torch.cuda.max_memory_allocated(device=device)\n",
    "print(mma)"
   ]
  },
  {
   "cell_type": "code",
   "execution_count": 19,
   "metadata": {},
   "outputs": [
    {
     "name": "stdout",
     "output_type": "stream",
     "text": [
      "24_Dec_2022_01_45_16_907606\n",
      "24_Dec_2022_01_45_16_907637\n",
      "<class 'str'>\n"
     ]
    }
   ],
   "source": [
    "from datetime import datetime\n",
    "\n",
    "timestamp = datetime.now().strftime('%d_%b_%Y_%H_%M_%S_%f')\n",
    "timestamp2 = datetime.now().strftime('%d_%b_%Y_%H_%M_%S_%f')\n",
    "\n",
    "print(timestamp)\n",
    "print(timestamp2)\n",
    "print(type(timestamp))\n",
    "\n",
    "# os.makedirs(f'./model_evaluation/{timestamp}/weights', exist_ok=True)"
   ]
  },
  {
   "cell_type": "code",
   "execution_count": 24,
   "metadata": {},
   "outputs": [],
   "source": [
    "# train_loss = 34.435345\n",
    "# accuracy = 99.23423\n",
    "# with open(f'loss_and_acc.txt', 'w') as f:\n",
    "#     f.writelines(['Train Loss: %.3f'%train_loss, '\\nAccuracy: %.3f'%accuracy])"
   ]
  },
  {
   "cell_type": "code",
   "execution_count": 4,
   "metadata": {},
   "outputs": [
    {
     "name": "stdout",
     "output_type": "stream",
     "text": [
      "\n",
      "1 | Train\n",
      "2 | Validation\n",
      "3 | Test\n",
      "You have chosen  3\n"
     ]
    }
   ],
   "source": [
    "try:\n",
    "    mode = int(input('Please set the mode: '))\n",
    "    print('\\n1 | Train\\n2 | Validation\\n3 | Test')\n",
    "    if mode not in (1,2,3):\n",
    "        raise ValueError\n",
    "except ValueError:\n",
    "    print('Sorry, that is not a valid option. Please try again')"
   ]
  },
  {
   "cell_type": "code",
   "execution_count": 16,
   "metadata": {},
   "outputs": [
    {
     "name": "stdout",
     "output_type": "stream",
     "text": [
      "NVIDIA GeForce RTX 2070\n",
      "_CudaDeviceProperties(name='NVIDIA GeForce RTX 2070', major=7, minor=5, total_memory=7971MB, multi_processor_count=36)\n",
      "0\n",
      "0\n"
     ]
    }
   ],
   "source": [
    "import torch\n",
    "device = torch.device(\"cuda:0\" if torch.cuda.is_available() else \"cpu\")\n",
    "props = torch.cuda.get_device_properties(device=device)\n",
    "print(torch.cuda.get_device_name(device=device))\n",
    "print(props)\n",
    "print(torch.cuda.max_memory_allocated(device=device))\n",
    "print(torch.cuda.max_memory_reserved(device=device))"
   ]
  },
  {
   "cell_type": "code",
   "execution_count": 1,
   "metadata": {},
   "outputs": [
    {
     "name": "stderr",
     "output_type": "stream",
     "text": [
      "Using cache found in /home/diasfrancisco/.cache/torch/hub/NVIDIA_DeepLearningExamples_torchhub\n",
      "/home/diasfrancisco/.cache/torch/hub/NVIDIA_DeepLearningExamples_torchhub/PyTorch/Classification/ConvNets/image_classification/models/common.py:13: UserWarning: pytorch_quantization module not found, quantization will not be available\n",
      "  warnings.warn(\n",
      "/home/diasfrancisco/.cache/torch/hub/NVIDIA_DeepLearningExamples_torchhub/PyTorch/Classification/ConvNets/image_classification/models/efficientnet.py:17: UserWarning: pytorch_quantization module not found, quantization will not be available\n",
      "  warnings.warn(\n"
     ]
    },
    {
     "name": "stdout",
     "output_type": "stream",
     "text": [
      "0\n",
      "1\n",
      "2\n",
      "3\n",
      "4\n",
      "5\n",
      "6\n"
     ]
    }
   ],
   "source": [
    "import torch\n",
    "resnet50 = torch.hub.load('NVIDIA/DeepLearningExamples:torchhub', 'nvidia_resnet50', pretrained=True)\n",
    "\n",
    "counter = 0\n",
    "\n",
    "for counter, child in enumerate(resnet50.children()):\n",
    "    print(counter)"
   ]
  },
  {
   "cell_type": "code",
   "execution_count": null,
   "metadata": {},
   "outputs": [],
   "source": [
    "list_img = sorted(os.listdir(path='./data/cleaned_images/'))\n",
    "list_img"
   ]
  },
  {
   "cell_type": "code",
   "execution_count": 7,
   "metadata": {},
   "outputs": [
    {
     "data": {
      "text/plain": [
       "dict"
      ]
     },
     "execution_count": 7,
     "metadata": {},
     "output_type": "execute_result"
    }
   ],
   "source": [
    "import torch\n",
    "dict = torch.load('image_embeddings.json')\n",
    "type(dict)"
   ]
  },
  {
   "cell_type": "code",
   "execution_count": 6,
   "metadata": {},
   "outputs": [
    {
     "data": {
      "text/plain": [
       "9"
      ]
     },
     "execution_count": 6,
     "metadata": {},
     "output_type": "execute_result"
    }
   ],
   "source": [
    "import pandas as pd\n",
    "labels_csv = pd.read_csv('./data/Labels.csv').rename(columns={'Unnamed: 0' : 'idx'}).to_dict()\n",
    "encoder_dict = dict((v,k) for k,v in labels_csv['Category'].items())\n",
    "encoder_dict['Appliances']\n",
    "# type(encoder_dict['Appliances'])"
   ]
  },
  {
   "cell_type": "code",
   "execution_count": 14,
   "metadata": {},
   "outputs": [
    {
     "name": "stderr",
     "output_type": "stream",
     "text": [
      "Using cache found in /home/diasfrancisco/.cache/torch/hub/NVIDIA_DeepLearningExamples_torchhub\n"
     ]
    },
    {
     "data": {
      "text/plain": [
       "dtype('float32')"
      ]
     },
     "execution_count": 14,
     "metadata": {},
     "output_type": "execute_result"
    }
   ],
   "source": [
    "import torch\n",
    "from image_cnn import FtCNN\n",
    "from image_processor import img_loader\n",
    "\n",
    "model = FtCNN()\n",
    "checkpoint = torch.load('./final_models/ft_model.pt')\n",
    "model.load_state_dict(checkpoint)\n",
    "model.eval()\n",
    "\n",
    "with open('data/images/0a5dac34-506c-4bbd-bb6f-1c4b450942ad.jpg', \"rb\") as image:\n",
    "    f = image.read()\n",
    "    b = bytearray(f)\n",
    "\n",
    "img = img_loader(b)\n",
    "fts = model(img)\n",
    "emb = fts.detach().numpy()\n",
    "emb.dtype"
   ]
  },
  {
   "cell_type": "code",
   "execution_count": 15,
   "metadata": {},
   "outputs": [
    {
     "data": {
      "text/plain": [
       "dict"
      ]
     },
     "execution_count": 15,
     "metadata": {},
     "output_type": "execute_result"
    }
   ],
   "source": [
    "import torch\n",
    "# '912bb259-3ad9-457b-9db1-ce1da9016057'\n",
    "emb = torch.load('image_embeddings.json')\n",
    "# emb_val = emb['912bb259-3ad9-457b-9db1-ce1da9016057']\n",
    "# emb_val[0]\n",
    "type(emb)"
   ]
  }
 ],
 "metadata": {
  "kernelspec": {
   "display_name": "facebook_ranking",
   "language": "python",
   "name": "python3"
  },
  "language_info": {
   "codemirror_mode": {
    "name": "ipython",
    "version": 3
   },
   "file_extension": ".py",
   "mimetype": "text/x-python",
   "name": "python",
   "nbconvert_exporter": "python",
   "pygments_lexer": "ipython3",
   "version": "3.9.16"
  },
  "orig_nbformat": 4,
  "vscode": {
   "interpreter": {
    "hash": "2278aa0a79cc982940520771e9a06ba9a7c10589ea8274630980780d2fa11267"
   }
  }
 },
 "nbformat": 4,
 "nbformat_minor": 2
}
